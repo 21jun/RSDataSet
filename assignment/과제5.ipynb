{
 "cells": [
  {
   "cell_type": "code",
   "execution_count": 1,
   "metadata": {},
   "outputs": [],
   "source": [
    "import pandas as pd\n",
    "import numpy as np\n",
    "import matplotlib.pyplot as plt\n",
    "import seaborn as sns\n",
    "import surprise\n",
    "\n",
    "from surprise import KNNBasic, KNNWithMeans, KNNWithZScore, SVD\n",
    "from surprise.model_selection import cross_validate, KFold\n",
    "from sklearn import metrics\n",
    "\n",
    "from collections import defaultdict\n",
    "\n",
    "from calldata.surprise_dataset import SupriseMovielensDataset, SurpriseDataset"
   ]
  },
  {
   "cell_type": "markdown",
   "metadata": {},
   "source": [
    "## Data Load"
   ]
  },
  {
   "cell_type": "code",
   "execution_count": 2,
   "metadata": {},
   "outputs": [],
   "source": [
    "MovieLens = SupriseMovielensDataset('./dataset/ml-100k/u.data')"
   ]
  },
  {
   "cell_type": "code",
   "execution_count": 3,
   "metadata": {},
   "outputs": [],
   "source": [
    "algo = SVD()"
   ]
  },
  {
   "cell_type": "code",
   "execution_count": 4,
   "metadata": {
    "scrolled": true
   },
   "outputs": [
    {
     "name": "stdout",
     "output_type": "stream",
     "text": [
      "Evaluating RMSE, MAE of algorithm SVD on 5 split(s).\n",
      "\n",
      "                  Fold 1  Fold 2  Fold 3  Fold 4  Fold 5  Mean    Std     \n",
      "RMSE (testset)    0.9433  0.9297  0.9275  0.9411  0.9407  0.9365  0.0065  \n",
      "MAE (testset)     0.7419  0.7314  0.7316  0.7443  0.7419  0.7382  0.0056  \n",
      "Fit time          4.42    4.40    4.41    4.42    4.46    4.42    0.02    \n",
      "Test time         0.19    0.14    0.18    0.14    0.14    0.16    0.02    \n"
     ]
    },
    {
     "data": {
      "text/plain": [
       "{'test_rmse': array([0.94329624, 0.92972892, 0.92746777, 0.94113681, 0.94069939]),\n",
       " 'test_mae': array([0.741938  , 0.73138719, 0.7316267 , 0.74432622, 0.74194533]),\n",
       " 'fit_time': (4.420380353927612,\n",
       "  4.4016265869140625,\n",
       "  4.408594131469727,\n",
       "  4.416300058364868,\n",
       "  4.45759391784668),\n",
       " 'test_time': (0.18899989128112793,\n",
       "  0.1380000114440918,\n",
       "  0.18201017379760742,\n",
       "  0.13500666618347168,\n",
       "  0.13599538803100586)}"
      ]
     },
     "execution_count": 4,
     "metadata": {},
     "output_type": "execute_result"
    }
   ],
   "source": [
    "cross_validate(algo, MovieLens.data, measures=['RMSE', 'MAE'], cv=5, verbose =True)"
   ]
  },
  {
   "cell_type": "markdown",
   "metadata": {},
   "source": [
    "## Precision and Recall"
   ]
  },
  {
   "cell_type": "code",
   "execution_count": 5,
   "metadata": {},
   "outputs": [],
   "source": [
    "def precision_recall_at_k(predictions, k=10, threshold=3.5):\n",
    "    '''Return precision and recall at k metrics for each user.'''\n",
    "\n",
    "    # First map the predictions to each user.\n",
    "    user_est_true = defaultdict(list)\n",
    "    for uid, _, true_r, est, _ in predictions:\n",
    "        user_est_true[uid].append((est, true_r))\n",
    "\n",
    "    precisions = dict()\n",
    "    recalls = dict()\n",
    "    for uid, user_ratings in user_est_true.items():\n",
    "\n",
    "        # Sort user ratings by estimated value\n",
    "        user_ratings.sort(key=lambda x: x[0], reverse=True)\n",
    "\n",
    "        # Number of relevant items\n",
    "        n_rel = sum((true_r >= threshold) for (_, true_r) in user_ratings)\n",
    "\n",
    "        # Number of recommended items in top k\n",
    "        n_rec_k = sum((est >= threshold) for (est, _) in user_ratings[:k])\n",
    "\n",
    "        # Number of relevant and recommended items in top k\n",
    "        n_rel_and_rec_k = sum(((true_r >= threshold) and (est >= threshold))\n",
    "                              for (est, true_r) in user_ratings[:k])\n",
    "\n",
    "        # Precision@K: Proportion of recommended items that are relevant\n",
    "        precisions[uid] = n_rel_and_rec_k / n_rec_k if n_rec_k != 0 else 1\n",
    "\n",
    "        # Recall@K: Proportion of relevant items that are recommended\n",
    "        recalls[uid] = n_rel_and_rec_k / n_rel if n_rel != 0 else 1\n",
    "\n",
    "    return precisions, recalls"
   ]
  },
  {
   "cell_type": "markdown",
   "metadata": {},
   "source": [
    "## DCG and NDCG"
   ]
  },
  {
   "cell_type": "code",
   "execution_count": 6,
   "metadata": {},
   "outputs": [],
   "source": [
    "# 입력값 r 은 예측값(est)의rank 순으로 정렬된 실제 rating 이다.\n",
    "def dcg_at_k(r, k):\n",
    "    r = np.asfarray(r)[:k]\n",
    "    if r.size:\n",
    "        return r[0] + np.sum(r[1:] / np.log2(np.arange(2, r.size + 1)))\n",
    "    return 0.\n",
    "\n",
    "def ndcg_at_k(r, k):\n",
    "    dcg_max = dcg_at_k(sorted(r, reverse=True), k)\n",
    "    if not dcg_max:\n",
    "        return 0.\n",
    "    return dcg_at_k(r, k) / dcg_max"
   ]
  },
  {
   "cell_type": "markdown",
   "metadata": {},
   "source": [
    "### Example"
   ]
  },
  {
   "cell_type": "code",
   "execution_count": 7,
   "metadata": {},
   "outputs": [
    {
     "data": {
      "text/plain": [
       "array([3, 1, 0, 2], dtype=int64)"
      ]
     },
     "execution_count": 7,
     "metadata": {},
     "output_type": "execute_result"
    }
   ],
   "source": [
    "# argsort 를 이용하여 rating 의 rank 찾기\n",
    "array = np.array([4,2,7,1])\n",
    "temp = array.argsort()\n",
    "temp"
   ]
  },
  {
   "cell_type": "code",
   "execution_count": 8,
   "metadata": {},
   "outputs": [
    {
     "data": {
      "text/plain": [
       "array([5, 2, 4, 1])"
      ]
     },
     "execution_count": 8,
     "metadata": {},
     "output_type": "execute_result"
    }
   ],
   "source": [
    "real = np.array([2, 1, 4, 5])\n",
    "est = np.array([3.23, 2.13, 3.12, 4.58])\n",
    "\n",
    "# np.argsort(-est)\n",
    "real[np.argsort(-est)]"
   ]
  },
  {
   "cell_type": "code",
   "execution_count": 9,
   "metadata": {},
   "outputs": [
    {
     "data": {
      "text/plain": [
       "10.023719014285831"
      ]
     },
     "execution_count": 9,
     "metadata": {},
     "output_type": "execute_result"
    }
   ],
   "source": [
    "# -est (음수처리를 통해 역순정렬)\n",
    "dcg_at_k(real[np.argsort(-est)], 4)"
   ]
  },
  {
   "cell_type": "code",
   "execution_count": 10,
   "metadata": {},
   "outputs": [
    {
     "data": {
      "text/plain": [
       "0.9314114356940674"
      ]
     },
     "execution_count": 10,
     "metadata": {},
     "output_type": "execute_result"
    }
   ],
   "source": [
    "ndcg_at_k(real[np.argsort(-est)], 4)"
   ]
  },
  {
   "cell_type": "markdown",
   "metadata": {},
   "source": [
    "## 모든 유저에 적용"
   ]
  },
  {
   "cell_type": "code",
   "execution_count": 11,
   "metadata": {},
   "outputs": [],
   "source": [
    "# 위 ndcg 함수를 이용하여, 모든 유저에 대해서 ndcg를 수행하고 평균냄\n",
    "def ndcg_at_k_all(predictions, k):\n",
    "    user_est_true = defaultdict(list)\n",
    "    for uid, _, true_r, est, _ in predictions:\n",
    "        user_est_true[uid].append([est, true_r])\n",
    "    \n",
    "    sum_ndcg = 0.\n",
    "    \n",
    "    # iteracte over users\n",
    "    for uid in user_est_true.keys():\n",
    "        tmp = np.array(user_est_true[uid])\n",
    "        r = tmp[:, 1][np.argsort(-tmp[:, 0])]\n",
    "        sum_ndcg += ndcg_at_k(r, k)\n",
    "    \n",
    "    return sum_ndcg / len(user_est_true.keys())"
   ]
  },
  {
   "cell_type": "markdown",
   "metadata": {},
   "source": [
    "## KFold 를 이용한 cross validation"
   ]
  },
  {
   "cell_type": "code",
   "execution_count": 12,
   "metadata": {},
   "outputs": [],
   "source": [
    "data = MovieLens.data\n",
    "kf = KFold(n_splits=5)"
   ]
  },
  {
   "cell_type": "code",
   "execution_count": 13,
   "metadata": {},
   "outputs": [],
   "source": [
    "KFold??"
   ]
  },
  {
   "cell_type": "markdown",
   "metadata": {},
   "source": [
    "### KFold 클래스 살펴보기\n",
    "\n",
    "\n",
    "```py\n",
    "class KFold():\n",
    "    def split(self, data):\n",
    "            '''Generator function to iterate over trainsets and testsets.\n",
    "\n",
    "            Args:\n",
    "                data(:obj:`Dataset<surprise.dataset.Dataset>`): The data containing\n",
    "                    ratings that will be devided into trainsets and testsets.\n",
    "\n",
    "            Yields:\n",
    "                tuple of (trainset, testset)\n",
    "           '''\n",
    "    ...\n",
    "    ...\n",
    "    ...\n",
    "\n",
    "        yield trainset, testset\n",
    "```\n",
    "\n",
    "KFold 의 split 메소드는 데이터를 k 번의 fold 마다 , trainset, testset의 튜플을 생성해준다.\n",
    "\n",
    "(generator 로 작동하며 iterable 한 오브젝트)\n",
    "```py\n",
    "kf.split(data) : <generator object KFold.split at 0x000001CDC11C1B48>\n",
    "```\n",
    "이때 trainset 은 `<class 'surprise.trainset.Trainset'>` 이고, testset 은 uid, iid, rate 튜플의 `list` 이다."
   ]
  },
  {
   "cell_type": "code",
   "execution_count": 74,
   "metadata": {},
   "outputs": [
    {
     "name": "stdout",
     "output_type": "stream",
     "text": [
      "('155', '294', 3.0)\n"
     ]
    }
   ],
   "source": [
    "for trainset, testset in kf.split(data):\n",
    "    print(testset[0])\n",
    "    break"
   ]
  },
  {
   "cell_type": "markdown",
   "metadata": {},
   "source": [
    "https://gist.github.com/bwhite/3726239"
   ]
  },
  {
   "cell_type": "code",
   "execution_count": 43,
   "metadata": {},
   "outputs": [],
   "source": [
    "def train_with_Kfold(algo, data, k=5, verbose=True):\n",
    "    \n",
    "    kf = KFold(n_splits=k,)\n",
    "    \n",
    "    history = pd.DataFrame(columns=['precision','recall', 'f1', 'NDCG'])\n",
    "    \n",
    "    i = 0\n",
    "    for trainset, testset in kf.split(data):\n",
    "        # algo 는 fit의 인자로 trainset 객체를 받고,\n",
    "        algo.fit(trainset)\n",
    "        predictions = algo.test(testset) # test의 인자로 튜플의 list 를 받는다.\n",
    "        precisions, recalls = precision_recall_at_k(predictions, k=15, threshold=4)\n",
    "\n",
    "        P = sum(rec for rec in precisions.values()) / len(precisions)\n",
    "        R = sum(rec for rec in recalls.values()) / len(recalls)\n",
    "        F1 = (2 * P * R) / (P + R)\n",
    "        # NDCG 의 top k rank 는 k=5 사용\n",
    "        NDCG = ndcg_at_k_all(predictions, k=5)\n",
    "        \n",
    "        history.loc[i]=[P, R, F1, NDCG]\n",
    "        \n",
    "        if verbose:\n",
    "            print(f\"FOLD: {i}\")\n",
    "            print(\"precision: \", P)\n",
    "            print(\"recall: \",R)\n",
    "            print(\"f1: \",F1)\n",
    "            print(\"NDCG: \",NDCG)\n",
    "            print(\"------\")\n",
    "        \n",
    "        i +=1\n",
    "    \n",
    "    return history"
   ]
  },
  {
   "cell_type": "markdown",
   "metadata": {},
   "source": [
    "### 알고리즘 별 성능비교 "
   ]
  },
  {
   "cell_type": "code",
   "execution_count": 76,
   "metadata": {},
   "outputs": [
    {
     "data": {
      "text/html": [
       "<div>\n",
       "<style scoped>\n",
       "    .dataframe tbody tr th:only-of-type {\n",
       "        vertical-align: middle;\n",
       "    }\n",
       "\n",
       "    .dataframe tbody tr th {\n",
       "        vertical-align: top;\n",
       "    }\n",
       "\n",
       "    .dataframe thead th {\n",
       "        text-align: right;\n",
       "    }\n",
       "</style>\n",
       "<table border=\"1\" class=\"dataframe\">\n",
       "  <thead>\n",
       "    <tr style=\"text-align: right;\">\n",
       "      <th></th>\n",
       "      <th>precision</th>\n",
       "      <th>recall</th>\n",
       "      <th>f1</th>\n",
       "      <th>NDCG</th>\n",
       "    </tr>\n",
       "  </thead>\n",
       "  <tbody>\n",
       "    <tr>\n",
       "      <th>0</th>\n",
       "      <td>0.867657</td>\n",
       "      <td>0.291389</td>\n",
       "      <td>0.436265</td>\n",
       "      <td>0.891460</td>\n",
       "    </tr>\n",
       "    <tr>\n",
       "      <th>1</th>\n",
       "      <td>0.885131</td>\n",
       "      <td>0.283306</td>\n",
       "      <td>0.429228</td>\n",
       "      <td>0.897280</td>\n",
       "    </tr>\n",
       "    <tr>\n",
       "      <th>2</th>\n",
       "      <td>0.876346</td>\n",
       "      <td>0.297043</td>\n",
       "      <td>0.443693</td>\n",
       "      <td>0.889800</td>\n",
       "    </tr>\n",
       "    <tr>\n",
       "      <th>3</th>\n",
       "      <td>0.872989</td>\n",
       "      <td>0.292674</td>\n",
       "      <td>0.438379</td>\n",
       "      <td>0.892566</td>\n",
       "    </tr>\n",
       "    <tr>\n",
       "      <th>4</th>\n",
       "      <td>0.875584</td>\n",
       "      <td>0.279384</td>\n",
       "      <td>0.423603</td>\n",
       "      <td>0.891718</td>\n",
       "    </tr>\n",
       "  </tbody>\n",
       "</table>\n",
       "</div>"
      ],
      "text/plain": [
       "   precision    recall        f1      NDCG\n",
       "0   0.867657  0.291389  0.436265  0.891460\n",
       "1   0.885131  0.283306  0.429228  0.897280\n",
       "2   0.876346  0.297043  0.443693  0.889800\n",
       "3   0.872989  0.292674  0.438379  0.892566\n",
       "4   0.875584  0.279384  0.423603  0.891718"
      ]
     },
     "execution_count": 76,
     "metadata": {},
     "output_type": "execute_result"
    }
   ],
   "source": [
    "algo = SVD(n_factors=100, n_epochs=20, biased=False, lr_all=0.005, reg_all=0)\n",
    "SVD_history = train_with_Kfold(algo, data, 5, False)\n",
    "SVD_history"
   ]
  },
  {
   "cell_type": "code",
   "execution_count": 77,
   "metadata": {},
   "outputs": [
    {
     "data": {
      "text/html": [
       "<div>\n",
       "<style scoped>\n",
       "    .dataframe tbody tr th:only-of-type {\n",
       "        vertical-align: middle;\n",
       "    }\n",
       "\n",
       "    .dataframe tbody tr th {\n",
       "        vertical-align: top;\n",
       "    }\n",
       "\n",
       "    .dataframe thead th {\n",
       "        text-align: right;\n",
       "    }\n",
       "</style>\n",
       "<table border=\"1\" class=\"dataframe\">\n",
       "  <thead>\n",
       "    <tr style=\"text-align: right;\">\n",
       "      <th></th>\n",
       "      <th>precision</th>\n",
       "      <th>recall</th>\n",
       "      <th>f1</th>\n",
       "      <th>NDCG</th>\n",
       "    </tr>\n",
       "  </thead>\n",
       "  <tbody>\n",
       "    <tr>\n",
       "      <th>0</th>\n",
       "      <td>0.813528</td>\n",
       "      <td>0.369697</td>\n",
       "      <td>0.508372</td>\n",
       "      <td>0.897800</td>\n",
       "    </tr>\n",
       "    <tr>\n",
       "      <th>1</th>\n",
       "      <td>0.822131</td>\n",
       "      <td>0.363641</td>\n",
       "      <td>0.504246</td>\n",
       "      <td>0.893168</td>\n",
       "    </tr>\n",
       "    <tr>\n",
       "      <th>2</th>\n",
       "      <td>0.793908</td>\n",
       "      <td>0.367178</td>\n",
       "      <td>0.502126</td>\n",
       "      <td>0.897807</td>\n",
       "    </tr>\n",
       "    <tr>\n",
       "      <th>3</th>\n",
       "      <td>0.813416</td>\n",
       "      <td>0.381791</td>\n",
       "      <td>0.519667</td>\n",
       "      <td>0.898107</td>\n",
       "    </tr>\n",
       "    <tr>\n",
       "      <th>4</th>\n",
       "      <td>0.797741</td>\n",
       "      <td>0.351951</td>\n",
       "      <td>0.488419</td>\n",
       "      <td>0.891631</td>\n",
       "    </tr>\n",
       "  </tbody>\n",
       "</table>\n",
       "</div>"
      ],
      "text/plain": [
       "   precision    recall        f1      NDCG\n",
       "0   0.813528  0.369697  0.508372  0.897800\n",
       "1   0.822131  0.363641  0.504246  0.893168\n",
       "2   0.793908  0.367178  0.502126  0.897807\n",
       "3   0.813416  0.381791  0.519667  0.898107\n",
       "4   0.797741  0.351951  0.488419  0.891631"
      ]
     },
     "execution_count": 77,
     "metadata": {},
     "output_type": "execute_result"
    }
   ],
   "source": [
    "sim_options = {'name':'cosine', 'user_based': True}\n",
    "algo = KNNBasic(k=40, min_k=1, sim_options=sim_options, verbose=False)\n",
    "KNNBasic_history = train_with_Kfold(algo, data, 5, False)\n",
    "KNNBasic_history"
   ]
  },
  {
   "cell_type": "code",
   "execution_count": 80,
   "metadata": {},
   "outputs": [
    {
     "data": {
      "text/html": [
       "<div>\n",
       "<style scoped>\n",
       "    .dataframe tbody tr th:only-of-type {\n",
       "        vertical-align: middle;\n",
       "    }\n",
       "\n",
       "    .dataframe tbody tr th {\n",
       "        vertical-align: top;\n",
       "    }\n",
       "\n",
       "    .dataframe thead th {\n",
       "        text-align: right;\n",
       "    }\n",
       "</style>\n",
       "<table border=\"1\" class=\"dataframe\">\n",
       "  <thead>\n",
       "    <tr style=\"text-align: right;\">\n",
       "      <th></th>\n",
       "      <th>precision</th>\n",
       "      <th>recall</th>\n",
       "      <th>f1</th>\n",
       "      <th>NDCG</th>\n",
       "    </tr>\n",
       "  </thead>\n",
       "  <tbody>\n",
       "    <tr>\n",
       "      <th>0</th>\n",
       "      <td>0.903450</td>\n",
       "      <td>0.315559</td>\n",
       "      <td>0.467743</td>\n",
       "      <td>0.894999</td>\n",
       "    </tr>\n",
       "    <tr>\n",
       "      <th>1</th>\n",
       "      <td>0.879470</td>\n",
       "      <td>0.318973</td>\n",
       "      <td>0.468153</td>\n",
       "      <td>0.888815</td>\n",
       "    </tr>\n",
       "    <tr>\n",
       "      <th>2</th>\n",
       "      <td>0.879312</td>\n",
       "      <td>0.313782</td>\n",
       "      <td>0.462515</td>\n",
       "      <td>0.890369</td>\n",
       "    </tr>\n",
       "    <tr>\n",
       "      <th>3</th>\n",
       "      <td>0.869118</td>\n",
       "      <td>0.326510</td>\n",
       "      <td>0.474688</td>\n",
       "      <td>0.889014</td>\n",
       "    </tr>\n",
       "    <tr>\n",
       "      <th>4</th>\n",
       "      <td>0.878778</td>\n",
       "      <td>0.320143</td>\n",
       "      <td>0.469313</td>\n",
       "      <td>0.894923</td>\n",
       "    </tr>\n",
       "  </tbody>\n",
       "</table>\n",
       "</div>"
      ],
      "text/plain": [
       "   precision    recall        f1      NDCG\n",
       "0   0.903450  0.315559  0.467743  0.894999\n",
       "1   0.879470  0.318973  0.468153  0.888815\n",
       "2   0.879312  0.313782  0.462515  0.890369\n",
       "3   0.869118  0.326510  0.474688  0.889014\n",
       "4   0.878778  0.320143  0.469313  0.894923"
      ]
     },
     "execution_count": 80,
     "metadata": {},
     "output_type": "execute_result"
    }
   ],
   "source": [
    "sim_options = {'name':'cosine', 'user_based': True}\n",
    "algo = KNNWithMeans(k=40, min_k=1, sim_options=sim_options, verbose=False)\n",
    "KNNWithMeans_history = train_with_Kfold(algo, data, 5, False)\n",
    "KNNWithMeans_history"
   ]
  },
  {
   "cell_type": "code",
   "execution_count": 78,
   "metadata": {},
   "outputs": [
    {
     "data": {
      "text/html": [
       "<div>\n",
       "<style scoped>\n",
       "    .dataframe tbody tr th:only-of-type {\n",
       "        vertical-align: middle;\n",
       "    }\n",
       "\n",
       "    .dataframe tbody tr th {\n",
       "        vertical-align: top;\n",
       "    }\n",
       "\n",
       "    .dataframe thead th {\n",
       "        text-align: right;\n",
       "    }\n",
       "</style>\n",
       "<table border=\"1\" class=\"dataframe\">\n",
       "  <thead>\n",
       "    <tr style=\"text-align: right;\">\n",
       "      <th></th>\n",
       "      <th>precision</th>\n",
       "      <th>recall</th>\n",
       "      <th>f1</th>\n",
       "      <th>NDCG</th>\n",
       "    </tr>\n",
       "  </thead>\n",
       "  <tbody>\n",
       "    <tr>\n",
       "      <th>0</th>\n",
       "      <td>0.868280</td>\n",
       "      <td>0.328956</td>\n",
       "      <td>0.477143</td>\n",
       "      <td>0.890606</td>\n",
       "    </tr>\n",
       "    <tr>\n",
       "      <th>1</th>\n",
       "      <td>0.891232</td>\n",
       "      <td>0.336304</td>\n",
       "      <td>0.488336</td>\n",
       "      <td>0.894442</td>\n",
       "    </tr>\n",
       "    <tr>\n",
       "      <th>2</th>\n",
       "      <td>0.876543</td>\n",
       "      <td>0.310421</td>\n",
       "      <td>0.458477</td>\n",
       "      <td>0.891117</td>\n",
       "    </tr>\n",
       "    <tr>\n",
       "      <th>3</th>\n",
       "      <td>0.895546</td>\n",
       "      <td>0.304973</td>\n",
       "      <td>0.454999</td>\n",
       "      <td>0.891985</td>\n",
       "    </tr>\n",
       "    <tr>\n",
       "      <th>4</th>\n",
       "      <td>0.879632</td>\n",
       "      <td>0.331895</td>\n",
       "      <td>0.481946</td>\n",
       "      <td>0.892367</td>\n",
       "    </tr>\n",
       "  </tbody>\n",
       "</table>\n",
       "</div>"
      ],
      "text/plain": [
       "   precision    recall        f1      NDCG\n",
       "0   0.868280  0.328956  0.477143  0.890606\n",
       "1   0.891232  0.336304  0.488336  0.894442\n",
       "2   0.876543  0.310421  0.458477  0.891117\n",
       "3   0.895546  0.304973  0.454999  0.891985\n",
       "4   0.879632  0.331895  0.481946  0.892367"
      ]
     },
     "execution_count": 78,
     "metadata": {},
     "output_type": "execute_result"
    }
   ],
   "source": [
    "sim_options = {'name':'cosine', 'user_based': True}\n",
    "algo = KNNWithZScore(k=40, min_k=1, sim_options=sim_options, verbose=False)\n",
    "KNNWithZScore_hitstory = train_with_Kfold(algo, data, 5, False)\n",
    "KNNWithZScore_hitstory"
   ]
  },
  {
   "cell_type": "code",
   "execution_count": 81,
   "metadata": {},
   "outputs": [
    {
     "name": "stdout",
     "output_type": "stream",
     "text": [
      "   precision    recall        f1      NDCG\n",
      "0   0.867657  0.291389  0.436265  0.891460\n",
      "1   0.885131  0.283306  0.429228  0.897280\n",
      "2   0.876346  0.297043  0.443693  0.889800\n",
      "3   0.872989  0.292674  0.438379  0.892566\n",
      "4   0.875584  0.279384  0.423603  0.891718\n",
      "   precision    recall        f1      NDCG\n",
      "0   0.813528  0.369697  0.508372  0.897800\n",
      "1   0.822131  0.363641  0.504246  0.893168\n",
      "2   0.793908  0.367178  0.502126  0.897807\n",
      "3   0.813416  0.381791  0.519667  0.898107\n",
      "4   0.797741  0.351951  0.488419  0.891631\n",
      "   precision    recall        f1      NDCG\n",
      "0   0.903450  0.315559  0.467743  0.894999\n",
      "1   0.879470  0.318973  0.468153  0.888815\n",
      "2   0.879312  0.313782  0.462515  0.890369\n",
      "3   0.869118  0.326510  0.474688  0.889014\n",
      "4   0.878778  0.320143  0.469313  0.894923\n",
      "   precision    recall        f1      NDCG\n",
      "0   0.868280  0.328956  0.477143  0.890606\n",
      "1   0.891232  0.336304  0.488336  0.894442\n",
      "2   0.876543  0.310421  0.458477  0.891117\n",
      "3   0.895546  0.304973  0.454999  0.891985\n",
      "4   0.879632  0.331895  0.481946  0.892367\n"
     ]
    }
   ],
   "source": [
    "print(SVD_history)\n",
    "print(KNNBasic_history)\n",
    "print(KNNWithMeans_history)\n",
    "print(KNNWithZScore_hitstory)"
   ]
  },
  {
   "cell_type": "code",
   "execution_count": 51,
   "metadata": {},
   "outputs": [
    {
     "name": "stdout",
     "output_type": "stream",
     "text": [
      "precision    0.876512\n",
      "recall       0.281835\n",
      "f1           0.426502\n",
      "NDCG         0.892356\n",
      "dtype: float64\n"
     ]
    }
   ],
   "source": [
    "print(SVD_history.mean())"
   ]
  },
  {
   "cell_type": "markdown",
   "metadata": {},
   "source": [
    "### KNN with Means / K = 40 ~ 130 , 10 씩 늘려가며 수행"
   ]
  },
  {
   "cell_type": "code",
   "execution_count": 82,
   "metadata": {},
   "outputs": [
    {
     "name": "stdout",
     "output_type": "stream",
     "text": [
      "40\n",
      "50\n",
      "60\n",
      "70\n",
      "80\n",
      "90\n",
      "100\n",
      "110\n",
      "120\n"
     ]
    }
   ],
   "source": [
    "sim_options = {'name':'cosine', 'user_based': True}\n",
    "p_history=[]\n",
    "r_history=[]\n",
    "f1_history=[]\n",
    "ndcg_history=[]\n",
    "\n",
    "for k in range(40, 130, 10):\n",
    "    algo = KNNWithMeans(k=k, min_k=1, sim_options=sim_options, verbose=False)\n",
    "    KNNWithMeans_history = train_with_Kfold(algo, data, 5, False)\n",
    "    p_history.append(KNNWithMeans_history.mean()[0])\n",
    "    r_history.append(KNNWithMeans_history.mean()[1])\n",
    "    f1_history.append(KNNWithMeans_history.mean()[2])\n",
    "    ndcg_history.append(KNNWithMeans_history.mean()[3])                     \n",
    "    print(k)\n",
    "\n",
    "# history"
   ]
  },
  {
   "cell_type": "code",
   "execution_count": 89,
   "metadata": {},
   "outputs": [],
   "source": [
    "plt.xticks??"
   ]
  },
  {
   "cell_type": "code",
   "execution_count": 106,
   "metadata": {},
   "outputs": [
    {
     "data": {
      "text/plain": [
       "[<matplotlib.lines.Line2D at 0x2121d992710>]"
      ]
     },
     "execution_count": 106,
     "metadata": {},
     "output_type": "execute_result"
    },
    {
     "data": {
      "image/png": "[encoded data removed]",
      "text/plain": [
       "<Figure size 432x288 with 1 Axes>"
      ]
     },
     "metadata": {},
     "output_type": "display_data"
    }
   ],
   "source": [
    "plt.xticks(list(range(12)), range(40, 130, 10))\n",
    "plt.axvline(x=4, color='red')\n",
    "plt.plot(p_history)"
   ]
  },
  {
   "cell_type": "code",
   "execution_count": 107,
   "metadata": {},
   "outputs": [
    {
     "data": {
      "text/plain": [
       "[<matplotlib.lines.Line2D at 0x2121d5f3320>]"
      ]
     },
     "execution_count": 107,
     "metadata": {},
     "output_type": "execute_result"
    },
    {
     "data": {
      "image/png": "[encoded data removed]",
      "text/plain": [
       "<Figure size 432x288 with 1 Axes>"
      ]
     },
     "metadata": {},
     "output_type": "display_data"
    }
   ],
   "source": [
    "plt.xticks(list(range(12)), range(40, 130, 10))\n",
    "plt.axvline(x=4, color='red')\n",
    "plt.plot(r_history)"
   ]
  },
  {
   "cell_type": "code",
   "execution_count": 108,
   "metadata": {},
   "outputs": [
    {
     "data": {
      "text/plain": [
       "[<matplotlib.lines.Line2D at 0x2121f483e80>]"
      ]
     },
     "execution_count": 108,
     "metadata": {},
     "output_type": "execute_result"
    },
    {
     "data": {
      "image/png": "[encoded data removed]",
      "text/plain": [
       "<Figure size 432x288 with 1 Axes>"
      ]
     },
     "metadata": {},
     "output_type": "display_data"
    }
   ],
   "source": [
    "plt.xticks(list(range(12)), range(40, 130, 10))\n",
    "plt.axvline(x=4, color='red')\n",
    "plt.plot(f1_history)"
   ]
  },
  {
   "cell_type": "code",
   "execution_count": 109,
   "metadata": {},
   "outputs": [
    {
     "data": {
      "text/plain": [
       "[<matplotlib.lines.Line2D at 0x2121e7a49b0>]"
      ]
     },
     "execution_count": 109,
     "metadata": {},
     "output_type": "execute_result"
    },
    {
     "data": {
      "image/png": "[encoded data removed]",
      "text/plain": [
       "<Figure size 432x288 with 1 Axes>"
      ]
     },
     "metadata": {},
     "output_type": "display_data"
    }
   ],
   "source": [
    "plt.xticks(list(range(12)), range(40, 130, 10))\n",
    "plt.axvline(x=4, color='red')\n",
    "plt.plot(ndcg_history)"
   ]
  },
  {
   "cell_type": "markdown",
   "metadata": {},
   "source": [
    "## 결론"
   ]
  },
  {
   "cell_type": "markdown",
   "metadata": {},
   "source": [
    "KNN with Means 알고리즘은 K가 80 일때 가장 좋은 성능을 내고, \n",
    "\n",
    "이후 K가 증가할 수록 Overfitting이 발생한다."
   ]
  },
  {
   "cell_type": "code",
   "execution_count": null,
   "metadata": {},
   "outputs": [],
   "source": []
  }
 ],
 "metadata": {
  "kernelspec": {
   "display_name": "Python 3",
   "language": "python",
   "name": "python3"
  },
  "language_info": {
   "codemirror_mode": {
    "name": "ipython",
    "version": 3
   },
   "file_extension": ".py",
   "mimetype": "text/x-python",
   "name": "python",
   "nbconvert_exporter": "python",
   "pygments_lexer": "ipython3",
   "version": "3.6.5"
  }
 },
 "nbformat": 4,
 "nbformat_minor": 2
}
